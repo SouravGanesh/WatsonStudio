{
    "cells": [
        {
            "cell_type": "markdown",
            "metadata": {},
            "source": "Jupeter notebook IBM 1"
        },
        {
            "cell_type": "code",
            "execution_count": 1,
            "metadata": {},
            "outputs": [
                {
                    "data": {
                        "text/html": "<div>\n<style scoped>\n    .dataframe tbody tr th:only-of-type {\n        vertical-align: middle;\n    }\n\n    .dataframe tbody tr th {\n        vertical-align: top;\n    }\n\n    .dataframe thead th {\n        text-align: right;\n    }\n</style>\n<table border=\"1\" class=\"dataframe\">\n  <thead>\n    <tr style=\"text-align: right;\">\n      <th></th>\n      <th>household</th>\n      <th>age_husband</th>\n      <th>age_wife</th>\n      <th>income_husband</th>\n      <th>income_wife</th>\n      <th>bedrooms</th>\n      <th>electricity</th>\n      <th>gas</th>\n      <th>number_children</th>\n      <th>internet</th>\n      <th>mode</th>\n      <th>own</th>\n      <th>language</th>\n      <th>decade_built</th>\n    </tr>\n  </thead>\n  <tbody>\n    <tr>\n      <th>0</th>\n      <td>48</td>\n      <td>64</td>\n      <td>62</td>\n      <td>11000</td>\n      <td>29200</td>\n      <td>1</td>\n      <td>90</td>\n      <td>3</td>\n      <td>0</td>\n      <td>Yes</td>\n      <td>followup</td>\n      <td>Owned with mortgage or loan</td>\n      <td>English only</td>\n      <td>1940</td>\n    </tr>\n    <tr>\n      <th>1</th>\n      <td>218</td>\n      <td>63</td>\n      <td>64</td>\n      <td>100000</td>\n      <td>3100</td>\n      <td>4</td>\n      <td>230</td>\n      <td>30</td>\n      <td>0</td>\n      <td>Yes</td>\n      <td>mail</td>\n      <td>Owned with mortgage or loan</td>\n      <td>English only</td>\n      <td>1990</td>\n    </tr>\n    <tr>\n      <th>2</th>\n      <td>279</td>\n      <td>56</td>\n      <td>51</td>\n      <td>31000</td>\n      <td>0</td>\n      <td>2</td>\n      <td>200</td>\n      <td>40</td>\n      <td>0</td>\n      <td>No</td>\n      <td>followup</td>\n      <td>Rented</td>\n      <td>English only</td>\n      <td>1950</td>\n    </tr>\n    <tr>\n      <th>3</th>\n      <td>612</td>\n      <td>71</td>\n      <td>68</td>\n      <td>51700</td>\n      <td>8800</td>\n      <td>3</td>\n      <td>170</td>\n      <td>3</td>\n      <td>0</td>\n      <td>Yes</td>\n      <td>internet</td>\n      <td>Owned free and clear</td>\n      <td>English only</td>\n      <td>1950</td>\n    </tr>\n    <tr>\n      <th>4</th>\n      <td>947</td>\n      <td>37</td>\n      <td>33</td>\n      <td>16600</td>\n      <td>26000</td>\n      <td>3</td>\n      <td>260</td>\n      <td>3</td>\n      <td>2</td>\n      <td>Yes</td>\n      <td>internet</td>\n      <td>Owned with mortgage or loan</td>\n      <td>English only</td>\n      <td>1990</td>\n    </tr>\n  </tbody>\n</table>\n</div>",
                        "text/plain": "   household  age_husband  age_wife  income_husband  income_wife  bedrooms  \\\n0         48           64        62           11000        29200         1   \n1        218           63        64          100000         3100         4   \n2        279           56        51           31000            0         2   \n3        612           71        68           51700         8800         3   \n4        947           37        33           16600        26000         3   \n\n   electricity  gas  number_children internet      mode  \\\n0           90    3                0      Yes  followup   \n1          230   30                0      Yes      mail   \n2          200   40                0       No  followup   \n3          170    3                0      Yes  internet   \n4          260    3                2      Yes  internet   \n\n                           own      language  decade_built  \n0  Owned with mortgage or loan  English only          1940  \n1  Owned with mortgage or loan  English only          1990  \n2                       Rented  English only          1950  \n3         Owned free and clear  English only          1950  \n4  Owned with mortgage or loan  English only          1990  "
                    },
                    "execution_count": 1,
                    "metadata": {},
                    "output_type": "execute_result"
                }
            ],
            "source": "# The code was removed by Watson Studio for sharing."
        },
        {
            "cell_type": "code",
            "execution_count": null,
            "metadata": {},
            "outputs": [],
            "source": ""
        }
    ],
    "metadata": {
        "kernelspec": {
            "display_name": "Python 3.7",
            "language": "python",
            "name": "python3"
        },
        "language_info": {
            "codemirror_mode": {
                "name": "ipython",
                "version": 3
            },
            "file_extension": ".py",
            "mimetype": "text/x-python",
            "name": "python",
            "nbconvert_exporter": "python",
            "pygments_lexer": "ipython3",
            "version": "3.7.9"
        }
    },
    "nbformat": 4,
    "nbformat_minor": 1
}